{
 "cells": [
  {
   "cell_type": "markdown",
   "metadata": {
    "colab_type": "text",
    "id": "view-in-github"
   },
   "source": [
    "<a href=\"https://colab.research.google.com/github/lukeolson/copper-multigrid-tutorial/blob/master/multigrid/01-model-problem.ipynb\" target=\"_parent\"><img src=\"https://colab.research.google.com/assets/colab-badge.svg\" alt=\"Open In Colab\"/></a>"
   ]
  },
  {
   "cell_type": "code",
   "execution_count": null,
   "metadata": {},
   "outputs": [],
   "source": [
    "import numpy as np\n",
    "import scipy as sp\n",
    "import scipy.sparse as sparse\n",
    "import matplotlib.pyplot as plt\n",
    "plt.style.use('seaborn-talk')\n",
    "%matplotlib inline"
   ]
  },
  {
   "cell_type": "markdown",
   "metadata": {},
   "source": [
    "Let's set up a matrix\n",
    "$$\n",
    "A = \n",
    "\\left[\n",
    "\\begin{array}{r r r r r}\n",
    "2 & -1 &  & & \\\\\n",
    "-1 & 2 & -1 & & \\\\\n",
    "   & -1 & 2 & -1 & \\\\\n",
    "& & \\ddots & & \\\\\n",
    "& & & -1 & 2\n",
    "\\end{array}\n",
    "\\right]\n",
    "$$"
   ]
  },
  {
   "cell_type": "code",
   "execution_count": null,
   "metadata": {},
   "outputs": [],
   "source": [
    "n = 64\n",
    "A = sparse.diags([-1, 2, -1], [-1, 0, 1], shape=(n,n), format='csr')"
   ]
  },
  {
   "cell_type": "markdown",
   "metadata": {},
   "source": [
    "Then look at the eigenvalues and eigenvectors of $A$.\n",
    "\n",
    "Here we will sort the values before proceeding."
   ]
  },
  {
   "cell_type": "code",
   "execution_count": null,
   "metadata": {},
   "outputs": [],
   "source": [
    "# eigenvalues and eigenvectors\n",
    "evals, evecs = np.linalg.eig(A.toarray())\n",
    "\n",
    "# sort eigenvalues\n",
    "eid = np.argsort(evals)\n",
    "evals = evals[eid]\n",
    "evecs = evecs[:,eid]"
   ]
  },
  {
   "cell_type": "markdown",
   "metadata": {},
   "source": [
    "Since we are solving the interior problem on an $n$ point mesh, we'll use $n+2$ points for the grid and take the $n$ interior points for plotting.\n",
    "\n",
    "The boundary conditions are $u(0)=u(1)=0$. Alternatively we can plot zero at the ends."
   ]
  },
  {
   "cell_type": "code",
   "execution_count": null,
   "metadata": {},
   "outputs": [],
   "source": [
    "x = np.linspace(0,1,n+2)[1:-1]\n",
    "plt.plot(x,evecs[:,0], 'o-')\n",
    "plt.xlabel('x')"
   ]
  },
  {
   "cell_type": "markdown",
   "metadata": {},
   "source": [
    "Now plot a few modes, $k$.\n",
    "\n",
    "Notice the smaller eigenvalues correspond to the Fourier modes.\n",
    "\n",
    "For $n$ points, on a grid from 0 to $n+1$, we have\n",
    "$$\n",
    "\\lambda_k = 4 \\sin^{2} \\left(\\frac{k \\pi}{2(n+1)}\\right)\n",
    "$$\n",
    "where $k=1,\\dots,n$, and the $j^{th}$ point of the eigenvector given by (zero based: $j=0,\\dots,n-1$)\n",
    "$$\n",
    "(v_k)_j = \\sin\\left(\\frac{(j+1)*k\\pi}{n+1}\\right)\n",
    "$$"
   ]
  },
  {
   "cell_type": "code",
   "execution_count": null,
   "metadata": {},
   "outputs": [],
   "source": [
    "for k in [0,2,5]:\n",
    "    print(f'eig k={k}: eval_k={evals[k]}')\n",
    "    plt.plot(x,evecs[:,k])\n",
    "    plt.xlabel('x')"
   ]
  },
  {
   "cell_type": "markdown",
   "metadata": {},
   "source": [
    "These appear (up to sign) to be the same as the eigenvectors of $A$ --- and they are!"
   ]
  },
  {
   "cell_type": "code",
   "execution_count": null,
   "metadata": {},
   "outputs": [],
   "source": [
    "z_evals = 4 * np.sin(np.arange(1,n+1)*np.pi / (2*(n+1)))**2\n",
    "z_evecs = np.zeros((n,n))\n",
    "for k in range(1,n):\n",
    "    z_evecs[:,k-1] = np.sin(np.arange(1,n+1) * k * np.pi / (n+1))\n",
    "    \n",
    "    # also, give unit-L2 norm in length\n",
    "    z_evecs[:,k-1] = z_evecs[:,k-1] / np.linalg.norm(z_evecs[:,k-1])"
   ]
  },
  {
   "cell_type": "code",
   "execution_count": null,
   "metadata": {},
   "outputs": [],
   "source": [
    "for k in [0,2,5]:\n",
    "    print(f'mode k={k+1}: eval_k={z_evals[k]}')\n",
    "    line, = plt.plot(x,z_evecs[:,k])\n",
    "    plt.xlabel('x')\n",
    "    c = plt.getp(line,'color')\n",
    "    plt.text(x[5*k], z_evecs[5*k,k], f'{z_evals[k]:4.2}', color=c,\n",
    "            bbox=dict(facecolor='w'))"
   ]
  },
  {
   "cell_type": "markdown",
   "metadata": {},
   "source": [
    "Now, let's plot the eigevalues, and shift / scale them so they land within $[-1,1]$:"
   ]
  },
  {
   "cell_type": "code",
   "execution_count": null,
   "metadata": {},
   "outputs": [],
   "source": [
    "plt.plot(evals, 0*evals, 'bo', label=r'$\\lambda$')\n",
    "plt.plot(0.5*evals, 1+0*evals, 'ro', label=r'$\\frac{1}{2}\\cdot\\lambda$')\n",
    "plt.plot(1-0.5*evals, 2+0*evals, 'go', label=r'$1-\\frac{1}{2}\\cdot\\lambda$')\n",
    "\n",
    "plt.yticks([])\n",
    "plt.xlabel(r'$\\Lambda(A)$')\n",
    "plt.legend()"
   ]
  },
  {
   "cell_type": "markdown",
   "metadata": {},
   "source": [
    "Look at two modes: a relatively \"smooth\" mode, and a relatively \"oscilliatory\" mode."
   ]
  },
  {
   "cell_type": "code",
   "execution_count": null,
   "metadata": {},
   "outputs": [],
   "source": [
    "plt.plot(x,z_evecs[:,3], 'o-', color='tab:orange', markerfacecolor='tab:blue')\n",
    "#plt.plot(x,z_evecs[:,50], 'o-', color='tab:orange', markerfacecolor='tab:blue')"
   ]
  },
  {
   "cell_type": "code",
   "execution_count": null,
   "metadata": {},
   "outputs": [],
   "source": []
  }
 ],
 "metadata": {
  "kernelspec": {
   "display_name": "Python 3",
   "language": "python",
   "name": "python3"
  },
  "language_info": {
   "codemirror_mode": {
    "name": "ipython",
    "version": 3
   },
   "file_extension": ".py",
   "mimetype": "text/x-python",
   "name": "python",
   "nbconvert_exporter": "python",
   "pygments_lexer": "ipython3",
   "version": "3.8.8"
  }
 },
 "nbformat": 4,
 "nbformat_minor": 4
}
