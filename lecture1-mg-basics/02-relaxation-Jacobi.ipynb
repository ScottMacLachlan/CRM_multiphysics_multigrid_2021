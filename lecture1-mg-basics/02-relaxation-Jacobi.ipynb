{
 "cells": [
  {
   "cell_type": "markdown",
   "metadata": {
    "colab_type": "text",
    "id": "view-in-github"
   },
   "source": [
    "<a href=\"https://colab.research.google.com/github/lukeolson/copper-multigrid-tutorial/blob/master/multigrid/02-relaxation-Jacobi.ipynb\" target=\"_parent\"><img src=\"https://colab.research.google.com/assets/colab-badge.svg\" alt=\"Open In Colab\"/></a>"
   ]
  },
  {
   "cell_type": "code",
   "execution_count": null,
   "metadata": {
    "slideshow": {
     "slide_type": "subslide"
    }
   },
   "outputs": [],
   "source": [
    "import numpy as np\n",
    "import scipy as sp\n",
    "import scipy.sparse as sparse\n",
    "import matplotlib.pyplot as plt\n",
    "plt.style.use('seaborn-talk')\n",
    "%matplotlib inline"
   ]
  },
  {
   "cell_type": "markdown",
   "metadata": {},
   "source": [
    "Create a small 8x8 matrix\n",
    "$$\n",
    "A = \n",
    "\\left[\n",
    "\\begin{array}{r r r r r}\n",
    "2 & -1 &  & & \\\\\n",
    "-1 & 2 & -1 & & \\\\\n",
    "   & -1 & 2 & -1 & \\\\\n",
    "& & \\ddots & & \\\\\n",
    "& & & -1 & 2\n",
    "\\end{array}\n",
    "\\right]\n",
    "$$"
   ]
  },
  {
   "cell_type": "code",
   "execution_count": null,
   "metadata": {},
   "outputs": [],
   "source": [
    "n = 8\n",
    "A = sparse.diags([-1, 2, -1], [-1, 0, 1], shape=(n,n), format='csr')\n",
    "b = np.zeros((n,))\n",
    "\n",
    "I = sparse.eye(n, format='csr')\n",
    "Dinv = 0.5 * I\n",
    "D = 2 * I\n",
    "E = -sparse.tril(A, -1)"
   ]
  },
  {
   "cell_type": "markdown",
   "metadata": {},
   "source": [
    "Let's take a very smooth mode.\n",
    "\n",
    "In fact one, the smoothest for this problem: the first Fourier mode."
   ]
  },
  {
   "cell_type": "code",
   "execution_count": null,
   "metadata": {},
   "outputs": [],
   "source": [
    "x = np.linspace(0,1,n+2)[1:-1]\n",
    "eold = np.sin(np.pi * x)\n",
    "enew = (I - Dinv * A) * eold\n",
    "plt.plot(x, eold, 'o-', color='tab:blue')\n",
    "plt.plot(x, enew, 'o-', color='tab:red')\n",
    "plt.xlabel(r'$x$')"
   ]
  },
  {
   "cell_type": "markdown",
   "metadata": {},
   "source": [
    "Now let's perturb one of the values, by say 20%.\n",
    "\n",
    "This will add some high frequency to this error."
   ]
  },
  {
   "cell_type": "code",
   "execution_count": null,
   "metadata": {},
   "outputs": [],
   "source": [
    "x = np.linspace(0,1,n+2)[1:-1]\n",
    "eold = np.sin(np.pi * x)\n",
    "eold[3] = 1.2\n",
    "enew = (I - Dinv * A) * eold\n",
    "plt.plot(x, eold, 'o-', color='tab:blue')\n",
    "plt.plot(x, enew, 'o-', color='tab:red')\n",
    "plt.xlabel(r'$x$')"
   ]
  },
  {
   "cell_type": "markdown",
   "metadata": {},
   "source": [
    "As a test, try the highest mode on this grid, something that oscillates as frequenty as possible."
   ]
  },
  {
   "cell_type": "code",
   "execution_count": null,
   "metadata": {},
   "outputs": [],
   "source": [
    "x = np.linspace(0,1,n+2)[1:-1]\n",
    "eold = np.ones(n)\n",
    "eold[1::2] = -1\n",
    "enew = (I - Dinv * A) * eold\n",
    "plt.plot(x, eold, 'o-', color='tab:blue')\n",
    "plt.plot(x, enew, 'o-', color='tab:red')\n",
    "plt.xlabel(r'$x$')"
   ]
  },
  {
   "cell_type": "markdown",
   "metadata": {},
   "source": [
    "Lets return to a 64x64 problem"
   ]
  },
  {
   "cell_type": "code",
   "execution_count": null,
   "metadata": {},
   "outputs": [],
   "source": [
    "n = 64\n",
    "A = sparse.diags([-1, 2, -1], [-1, 0, 1], shape=(n,n), format='csr')\n",
    "b = np.zeros((n,))\n",
    "x = np.linspace(0,1,n+2)[1:-1]\n",
    "I = sparse.eye(n, format='csr')\n",
    "Dinv = 0.5 * I\n",
    "D = 2 * I\n",
    "E = -sparse.tril(A, -1)"
   ]
  },
  {
   "cell_type": "markdown",
   "metadata": {},
   "source": [
    "We will take a random *error* in this case and\n",
    "run the problem\n",
    "$$\n",
    "A u = 0\n",
    "$$\n",
    "\n",
    "What happense if we change 2/3 to 1 and plot the error?"
   ]
  },
  {
   "cell_type": "code",
   "execution_count": null,
   "metadata": {},
   "outputs": [],
   "source": [
    "rnorm = []\n",
    "\n",
    "test = 'random'\n",
    "\n",
    "if test == 'random':\n",
    "    np.random.seed(233008)\n",
    "    u = np.random.rand(n)\n",
    "elif test == 'smooth':\n",
    "    n = A.shape[0]\n",
    "    u = np.sin(np.pi * np.arange(1, n+1)/ (n+1))\n",
    "    \n",
    "uinit = u.copy()\n",
    "\n",
    "for i in range(10):\n",
    "    u[:] = u - 1.0* Dinv * A * u\n",
    "    #u[:] = u - sla.(D-E, A*u)\n",
    "    rnorm.append(np.linalg.norm(A * u))"
   ]
  },
  {
   "cell_type": "markdown",
   "metadata": {},
   "source": [
    "$$\n",
    "u \\leftarrow u + \\omega D^{-1}r\n",
    "$$\n",
    "if $b=0$, then $r = - A u$"
   ]
  },
  {
   "cell_type": "code",
   "execution_count": null,
   "metadata": {},
   "outputs": [],
   "source": [
    "plt.plot(x, uinit, '-')\n",
    "plt.plot(x, u, '-')\n",
    "plt.xlabel(r'$x$')"
   ]
  },
  {
   "cell_type": "markdown",
   "metadata": {},
   "source": [
    "In this example we will consider 4 specific modes: 1, 3, 6, and 48,"
   ]
  },
  {
   "cell_type": "code",
   "execution_count": null,
   "metadata": {},
   "outputs": [],
   "source": [
    "u1 = np.sin(np.arange(1,n+1) * 1 * np.pi / (n+1))\n",
    "u3 = np.sin(np.arange(1,n+1) * 3 * np.pi / (n+1))\n",
    "u6 = np.sin(np.arange(1,n+1) * 6 * np.pi / (n+1))\n",
    "u48 = np.sin(np.arange(1,n+1) * 48 * np.pi / (n+1))\n",
    "\n",
    "\n",
    "omega = 2.0 / 3.0\n",
    "\n",
    "rnorm1 = []\n",
    "rnorm3 = []\n",
    "rnorm6 = []\n",
    "rnorm48 = []\n",
    "\n",
    "for i in range(100):\n",
    "    u = u1\n",
    "    u[:] = u - omega * Dinv * A * u\n",
    "    rnorm1.append(np.linalg.norm(A * u))\n",
    "    \n",
    "    u = u3\n",
    "    u[:] = u - omega * Dinv * A * u\n",
    "    rnorm3.append(np.linalg.norm(A * u))\n",
    "    \n",
    "    u = u6\n",
    "    u[:] = u - omega * Dinv * A * u\n",
    "    rnorm6.append(np.linalg.norm(A * u))\n",
    "    \n",
    "    u = u48\n",
    "    u[:] = u - omega * Dinv * A * u\n",
    "    rnorm48.append(np.linalg.norm(A * u))    "
   ]
  },
  {
   "cell_type": "code",
   "execution_count": null,
   "metadata": {},
   "outputs": [],
   "source": [
    "u1 = np.sin(np.arange(1,n+1) * 1 * np.pi / (n+1))\n",
    "u3 = np.sin(np.arange(1,n+1) * 3 * np.pi / (n+1))\n",
    "u6 = np.sin(np.arange(1,n+1) * 6 * np.pi / (n+1))\n",
    "u48 = np.sin(np.arange(1,n+1) * 48 * np.pi / (n+1))\n",
    "plt.plot(u1, '-o', label='k=1')\n",
    "plt.plot(u3,  '-o', label='k=2')\n",
    "plt.plot(u6, '-o', label='k=3')\n",
    "plt.plot(u48, '-o', label='k=48')"
   ]
  },
  {
   "cell_type": "code",
   "execution_count": null,
   "metadata": {},
   "outputs": [],
   "source": [
    "for rnorm, label in zip([rnorm1, rnorm3, rnorm6, rnorm48],\n",
    "                        ['k=1', 'k=3', 'k=6', 'k=48']):\n",
    "    rnorm = np.array(rnorm) / rnorm[0]\n",
    "    plt.semilogy(rnorm, lw=3, label=label)\n",
    "plt.xlabel('iterations')\n",
    "plt.ylabel('residual')\n",
    "plt.legend()"
   ]
  },
  {
   "cell_type": "markdown",
   "metadata": {},
   "source": [
    "We can also consider an initial error made up of three modes (in this case 1, 6, and 32.  What happens to the error?"
   ]
  },
  {
   "cell_type": "code",
   "execution_count": null,
   "metadata": {},
   "outputs": [],
   "source": [
    "omega = 2.0 / 3.0\n",
    "\n",
    "rnorm = []\n",
    "enorm = []\n",
    "u1 = np.sin(1 * np.pi * np.arange(1, n+1)/ (n+1))\n",
    "u6 = np.sin(6 * np.pi * np.arange(1, n+1)/ (n+1))\n",
    "u32 = np.sin(32 * np.pi * np.arange(1, n+1)/ (n+1))\n",
    "u = ((u1 + u6 + u32) / 3.0).copy()\n",
    "rnorm.append(np.linalg.norm(A * u))\n",
    "enorm.append(np.linalg.norm(u, ord=np.inf))\n",
    "\n",
    "for i in range(100):\n",
    "    u[:] = u - omega * Dinv * A * u\n",
    "    rnorm.append(np.linalg.norm(A * u))\n",
    "    enorm.append(np.linalg.norm(u, ord=np.inf))  # why?"
   ]
  },
  {
   "cell_type": "code",
   "execution_count": null,
   "metadata": {},
   "outputs": [],
   "source": [
    "plt.plot((u1 + u6 + u32) / 3.0)\n",
    "plt.plot(u)"
   ]
  },
  {
   "cell_type": "code",
   "execution_count": null,
   "metadata": {},
   "outputs": [],
   "source": [
    "norm = enorm\n",
    "#norm = np.array(norm) / norm[0]\n",
    "plt.plot(norm, lw=3, clip_on=False)\n",
    "plt.axis([0,100, 0, 1])"
   ]
  },
  {
   "cell_type": "markdown",
   "metadata": {},
   "source": [
    "Let's observe the spectrum of\n",
    "$$\n",
    "G = I - (2/3) D^{-1} A\n",
    "$$"
   ]
  },
  {
   "cell_type": "code",
   "execution_count": null,
   "metadata": {},
   "outputs": [],
   "source": [
    "K = np.arange(1,n)\n",
    "absG = 1 - (2/3) * (1/2) * 4 * np.sin(K * np.pi / (2*(n+1)))**2\n",
    "\n",
    "plt.plot(absG,'o-')\n",
    "plt.axis([0,n, -1.05,1.05])\n",
    "\n",
    "plt.ylabel(r'$|\\lambda^{\\omega J}_k|$')\n",
    "plt.xlabel(r'wave number, $k$')"
   ]
  },
  {
   "cell_type": "markdown",
   "metadata": {},
   "source": [
    "Let's observe the spectrum of\n",
    "$$\n",
    "G = I - \\omega D^{-1} A\n",
    "$$\n",
    "for several $\\omega$"
   ]
  },
  {
   "cell_type": "code",
   "execution_count": null,
   "metadata": {},
   "outputs": [],
   "source": [
    "K = np.arange(1,n)\n",
    "\n",
    "omega = 1.0 /2\n",
    "lmbda = 1 - (omega / 2) * 4.0 * np.sin(np.pi * K / (2*(n+1)))**2\n",
    "plt.plot(lmbda,'-k',label='residual',linewidth=4, clip_on=False)\n",
    "plt.text(n+2, lmbda[-1], r'$\\omega=1/2$')\n",
    "\n",
    "omega = 1.0 / 3.0\n",
    "lmbda = 1 - (omega / 2) * 4.0 * np.sin(np.pi * K / (2*(n+1)))**2\n",
    "plt.plot(lmbda,'-k',label='residual',linewidth=4, clip_on=False)\n",
    "plt.text(n+2, lmbda[-1], r'$\\omega=1/3$')\n",
    "\n",
    "omega = 2.0 / 3.0\n",
    "lmbda = 1 - (omega / 2) * 4.0 * np.sin(np.pi * K / (2*(n+1)))**2\n",
    "plt.plot(lmbda,'-k',label='residual',linewidth=4, clip_on=False)\n",
    "plt.text(n+2, lmbda[-1], r'$\\omega=2/3$')\n",
    "\n",
    "omega = 1\n",
    "lmbda = 1 - (omega / 2) * 4.0 * np.sin(np.pi * K/ (2*(n+1)))**2\n",
    "plt.plot(lmbda,'-k',label='residual',linewidth=4, clip_on=False)\n",
    "plt.text(n+2, lmbda[-1], r'$\\omega=1$')\n",
    "\n",
    "plt.plot([0, n], [0, 0], '--b')\n",
    "plt.axis([0,n,-1,1])\n",
    "plt.ylabel(r'$\\lambda^{\\omega_J}_k$')\n",
    "plt.xlabel(r'wave number, $k$')"
   ]
  },
  {
   "cell_type": "code",
   "execution_count": null,
   "metadata": {},
   "outputs": [],
   "source": []
  }
 ],
 "metadata": {
  "kernelspec": {
   "display_name": "Python 3",
   "language": "python",
   "name": "python3"
  },
  "language_info": {
   "codemirror_mode": {
    "name": "ipython",
    "version": 3
   },
   "file_extension": ".py",
   "mimetype": "text/x-python",
   "name": "python",
   "nbconvert_exporter": "python",
   "pygments_lexer": "ipython3",
   "version": "3.8.8"
  }
 },
 "nbformat": 4,
 "nbformat_minor": 4
}
