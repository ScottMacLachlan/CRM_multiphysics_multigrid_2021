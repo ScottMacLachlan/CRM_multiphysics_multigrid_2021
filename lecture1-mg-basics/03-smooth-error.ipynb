{
 "cells": [
  {
   "cell_type": "markdown",
   "metadata": {
    "colab_type": "text",
    "id": "view-in-github"
   },
   "source": [
    "<a href=\"https://colab.research.google.com/github/ScottMacLachlan/CRM_multiphysics_multigrid_2021/blob/master/lecture1-mg-basics/03-smooth-error.ipynb\" target=\"_parent\"><img src=\"https://colab.research.google.com/assets/colab-badge.svg\" alt=\"Open In Colab\"/></a>"
   ]
  },
  {
   "cell_type": "code",
   "execution_count": null,
   "metadata": {},
   "outputs": [],
   "source": [
    "import numpy as np\n",
    "import scipy as sp\n",
    "import scipy.sparse as sparse\n",
    "import matplotlib.pyplot as plt\n",
    "#plt.style.use('seaborn-talk')\n",
    "%matplotlib inline"
   ]
  },
  {
   "cell_type": "markdown",
   "metadata": {},
   "source": [
    "Let's create a matrix\n",
    "$$\n",
    "A = \n",
    "\\left[\n",
    "\\begin{array}{r r r r r}\n",
    "2 & -1 &  & & \\\\\n",
    "-1 & 2 & -1 & & \\\\\n",
    "   & -1 & 2 & -1 & \\\\\n",
    "& & \\ddots & & \\\\\n",
    "& & & -1 & 2\n",
    "\\end{array}\n",
    "\\right]\n",
    "$$\n",
    "\n",
    "and the necessary operators for weighted Jacobi"
   ]
  },
  {
   "cell_type": "code",
   "execution_count": null,
   "metadata": {},
   "outputs": [],
   "source": [
    "n = 64\n",
    "A = sparse.diags([-1, 2, -1], [-1, 0, 1], shape=(n,n), format='csr')\n",
    "\n",
    "I = sparse.eye(n, format='csr')\n",
    "Dinv = 0.5 * I\n",
    "D = 2 * I\n",
    "E = -sparse.tril(A, -1)"
   ]
  },
  {
   "cell_type": "markdown",
   "metadata": {},
   "source": [
    "Next, instead of solving\n",
    "$$\n",
    "A u = 0\n",
    "$$\n",
    "we will solve\n",
    "$$\n",
    "A u = b\n",
    "$$\n",
    "with $u^*$ selected at random and $b$ constructed from the product."
   ]
  },
  {
   "cell_type": "code",
   "execution_count": null,
   "metadata": {},
   "outputs": [],
   "source": [
    "np.random.seed(65883)\n",
    "ustar = np.random.rand(n)\n",
    "b = A * ustar\n",
    "\n",
    "plt.plot(ustar, label=r'$u^*$')\n",
    "plt.legend()"
   ]
  },
  {
   "cell_type": "markdown",
   "metadata": {},
   "source": [
    "next, let's relax on\n",
    "$$\n",
    "Au = b\n",
    "$$\n",
    "and look at the **solution**"
   ]
  },
  {
   "cell_type": "code",
   "execution_count": null,
   "metadata": {},
   "outputs": [],
   "source": [
    "omega = 2.0/3.0\n",
    "rnorm = []\n",
    "monitor = True\n",
    "u = np.random.rand(n)\n",
    "for i in range(200):\n",
    "    u[:] = u + omega * Dinv * (b - A * u)\n",
    "    #u[:] = u - sla.spsolve(D-E, A*u)\n",
    "    rnorm.append(np.linalg.norm(b - A * u))"
   ]
  },
  {
   "cell_type": "code",
   "execution_count": null,
   "metadata": {},
   "outputs": [],
   "source": [
    "plt.plot(u, label=r'$x$')\n",
    "plt.legend()"
   ]
  },
  {
   "cell_type": "markdown",
   "metadata": {},
   "source": [
    "Now look at the **ERROR**"
   ]
  },
  {
   "cell_type": "code",
   "execution_count": null,
   "metadata": {},
   "outputs": [],
   "source": [
    "plt.plot(ustar - u, marker='|', markersize=15, label=r'$u^* - u$')\n",
    "plt.legend()"
   ]
  },
  {
   "cell_type": "markdown",
   "metadata": {},
   "source": [
    "To look ahead, take a look at the **error** on every other point..."
   ]
  },
  {
   "cell_type": "code",
   "execution_count": null,
   "metadata": {},
   "outputs": [],
   "source": [
    "e = ustar - u\n",
    "plt.plot(e[1::2], marker='|', markersize=15, label=r'coarse $u^* - u$')\n",
    "plt.legend()"
   ]
  },
  {
   "cell_type": "code",
   "execution_count": null,
   "metadata": {},
   "outputs": [],
   "source": []
  }
 ],
 "metadata": {
  "kernelspec": {
   "display_name": "Python 3",
   "language": "python",
   "name": "python3"
  },
  "language_info": {
   "codemirror_mode": {
    "name": "ipython",
    "version": 3
   },
   "file_extension": ".py",
   "mimetype": "text/x-python",
   "name": "python",
   "nbconvert_exporter": "python",
   "pygments_lexer": "ipython3",
   "version": "3.8.8"
  }
 },
 "nbformat": 4,
 "nbformat_minor": 4
}
