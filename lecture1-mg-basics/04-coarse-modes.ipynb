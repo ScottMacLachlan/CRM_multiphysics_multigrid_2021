{
 "cells": [
  {
   "cell_type": "markdown",
   "metadata": {
    "colab_type": "text",
    "id": "view-in-github"
   },
   "source": [
    "<a href=\"https://colab.research.google.com/github/ScottMacLachlan/CRM_multiphysics_multigrid_2021/blob/master/lecture1-mg-basics/04-coarse-modes.ipynb\" target=\"_parent\"><img src=\"https://colab.research.google.com/assets/colab-badge.svg\" alt=\"Open In Colab\"/></a>"
   ]
  },
  {
   "cell_type": "code",
   "execution_count": null,
   "metadata": {},
   "outputs": [],
   "source": [
    "import numpy as np\n",
    "import scipy as sp\n",
    "import scipy.sparse as sparse\n",
    "import matplotlib.pyplot as plt\n",
    "plt.style.use('seaborn-talk')\n",
    "%matplotlib inline"
   ]
  },
  {
   "cell_type": "markdown",
   "metadata": {},
   "source": [
    "Let's consider two sine modes, one sampled on a fine space\n",
    "$$\n",
    "\\sin(k \\pi x_f)\n",
    "$$\n",
    "and one sampled on a coarse space\n",
    "$$\n",
    "\\sin(k \\pi x_c)\n",
    "$$"
   ]
  },
  {
   "cell_type": "code",
   "execution_count": null,
   "metadata": {},
   "outputs": [],
   "source": [
    "m = 4\n",
    "k = 4\n",
    "\n",
    "nf = 2**m + 1\n",
    "xf = np.linspace(0,1,nf)\n",
    "yf = np.sin(k * np.pi * xf)\n",
    "\n",
    "nc = 2**(m-1) + 1\n",
    "xc = np.linspace(0,1,nc)\n",
    "yc = np.sin(k * np.pi * xc)"
   ]
  },
  {
   "cell_type": "markdown",
   "metadata": {},
   "source": [
    "First plot the coarse points"
   ]
  },
  {
   "cell_type": "code",
   "execution_count": null,
   "metadata": {},
   "outputs": [],
   "source": [
    "plt.plot(xc, 0*xc, 's', color='tab:orange', ms=15, label='coarse')\n",
    "plt.plot(xf, 0*xf, 'o', color='tab:blue', label='fine')\n",
    "plt.legend()"
   ]
  },
  {
   "cell_type": "markdown",
   "metadata": {},
   "source": [
    "Then look at a low mode:"
   ]
  },
  {
   "cell_type": "code",
   "execution_count": null,
   "metadata": {},
   "outputs": [],
   "source": [
    "plt.plot(xc, yc, '-s', color='tab:orange', lw=3, clip_on=False, label='coarse')\n",
    "plt.plot(xf, yf, '-o', color='tab:blue', lw=3, clip_on=False, label='fine')\n",
    "plt.legend()"
   ]
  },
  {
   "cell_type": "markdown",
   "metadata": {},
   "source": [
    "Then plot a high mode:"
   ]
  },
  {
   "cell_type": "code",
   "execution_count": null,
   "metadata": {},
   "outputs": [],
   "source": [
    "m = 4\n",
    "k = 12\n",
    "\n",
    "nf = 2**m + 1\n",
    "xf = np.linspace(0,1,nf)\n",
    "yf = np.sin(k * np.pi * xf)\n",
    "\n",
    "nc = 2**(m-1) + 1\n",
    "xc = np.linspace(0,1,nc)\n",
    "yc = np.sin(k * np.pi * xc)\n",
    "\n",
    "plt.plot(xc, yc, '-s', color='tab:orange', lw=3, clip_on=False, label='coarse')\n",
    "plt.plot(xf, yf, '-o', color='tab:blue', lw=3, clip_on=False, label='fine')\n",
    "plt.legend()"
   ]
  },
  {
   "cell_type": "code",
   "execution_count": null,
   "metadata": {},
   "outputs": [],
   "source": []
  }
 ],
 "metadata": {
  "kernelspec": {
   "display_name": "Python 3",
   "language": "python",
   "name": "python3"
  },
  "language_info": {
   "codemirror_mode": {
    "name": "ipython",
    "version": 3
   },
   "file_extension": ".py",
   "mimetype": "text/x-python",
   "name": "python",
   "nbconvert_exporter": "python",
   "pygments_lexer": "ipython3",
   "version": "3.8.8"
  }
 },
 "nbformat": 4,
 "nbformat_minor": 4
}
