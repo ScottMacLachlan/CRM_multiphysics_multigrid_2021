{
 "cells": [
  {
   "cell_type": "markdown",
   "metadata": {
    "colab_type": "text",
    "id": "view-in-github"
   },
   "source": [
    "<a href=\"https://colab.research.google.com/github/lukeolson/copper-multigrid-tutorial/blob/master/multigrid/05-interpolation.ipynb\" target=\"_parent\"><img src=\"https://colab.research.google.com/assets/colab-badge.svg\" alt=\"Open In Colab\"/></a>"
   ]
  },
  {
   "cell_type": "code",
   "execution_count": null,
   "metadata": {},
   "outputs": [],
   "source": [
    "import numpy as np\n",
    "import scipy as sp\n",
    "import scipy.sparse as sparse\n",
    "import matplotlib.pyplot as plt\n",
    "plt.style.use('seaborn-talk')\n",
    "%matplotlib inline"
   ]
  },
  {
   "cell_type": "code",
   "execution_count": null,
   "metadata": {},
   "outputs": [],
   "source": [
    "def interpolate(vc):\n",
    "    \"\"\"\n",
    "    linear interpolation\n",
    "    \n",
    "    vc : array of size 2**k - 1\n",
    "    \n",
    "    interpolate v of size 2**(m-1)-1 to 2**(m)-1\n",
    "    \"\"\"\n",
    "    nc = len(vc)\n",
    "    nf = 2**(int(np.log2(nc+1))+1)-1\n",
    "    \n",
    "    vf = np.zeros((nf,))\n",
    "    \n",
    "    # 1\n",
    "    vf[2:-1:2] = 0.5 * vc[:-1] + 0.5 * vc[1:]\n",
    "    \n",
    "    # 2\n",
    "    vf[1::2] = vc\n",
    "    \n",
    "    # 3\n",
    "    vf[0] = 0.5 * vc[0]\n",
    "    # 4\n",
    "    vf[-1] = 0.5 * vc[-1]\n",
    "    \n",
    "    return vf"
   ]
  },
  {
   "cell_type": "code",
   "execution_count": null,
   "metadata": {},
   "outputs": [],
   "source": [
    "m = 4\n",
    "nf = 2**m - 1\n",
    "nc = 2**(m-1) - 1\n",
    "\n",
    "xc = np.linspace(0,1,nc+2)[1:-1]\n",
    "vc = np.sin(1 * np.pi * xc)\n",
    "#vc = np.random.rand(nc)\n",
    "plt.plot(xc, vc, 'o-', color='tab:orange', clip_on=False, ms=15)\n",
    "\n",
    "xf = np.linspace(0,1,nf+2)[1:-1]\n",
    "vf = interpolate(vc)\n",
    "#vf[0::2] += 0.5 * np.random.randn(len(vf[::2]))\n",
    "\n",
    "plt.plot(xf, vf, 'o-', clip_on=False)"
   ]
  },
  {
   "cell_type": "code",
   "execution_count": null,
   "metadata": {},
   "outputs": [],
   "source": [
    "P = np.zeros((15,7))\n",
    "for i in range(7):\n",
    "    z = np.zeros(7)\n",
    "    z[i] = 1\n",
    "    P[:,i] = interpolate(z)\n",
    "print(P)"
   ]
  },
  {
   "cell_type": "code",
   "execution_count": null,
   "metadata": {},
   "outputs": [],
   "source": [
    "for i in range(7):\n",
    "    plt.plot(P[:,i])"
   ]
  },
  {
   "cell_type": "code",
   "execution_count": null,
   "metadata": {},
   "outputs": [],
   "source": []
  }
 ],
 "metadata": {
  "kernelspec": {
   "display_name": "Python 3",
   "language": "python",
   "name": "python3"
  },
  "language_info": {
   "codemirror_mode": {
    "name": "ipython",
    "version": 3
   },
   "file_extension": ".py",
   "mimetype": "text/x-python",
   "name": "python",
   "nbconvert_exporter": "python",
   "pygments_lexer": "ipython3",
   "version": "3.8.8"
  }
 },
 "nbformat": 4,
 "nbformat_minor": 4
}
