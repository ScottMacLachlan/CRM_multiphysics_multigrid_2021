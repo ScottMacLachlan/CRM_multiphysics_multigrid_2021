{
 "cells": [
  {
   "cell_type": "markdown",
   "metadata": {
    "colab_type": "text",
    "id": "view-in-github"
   },
   "source": [
    "<a href=\"https://colab.research.google.com/github/lukeolson/copper-multigrid-tutorial/blob/master/multigrid/07-multigrid-two-level-matrix-form.ipynb\" target=\"_parent\"><img src=\"https://colab.research.google.com/assets/colab-badge.svg\" alt=\"Open In Colab\"/></a>"
   ]
  },
  {
   "cell_type": "code",
   "execution_count": null,
   "metadata": {},
   "outputs": [],
   "source": [
    "import scipy as sp\n",
    "import numpy as np\n",
    "import scipy.sparse as sparse\n",
    "import scipy.sparse.linalg as sla\n",
    "import matplotlib.pyplot as plt\n",
    "plt.style.use('seaborn-talk')\n",
    "\n",
    "%matplotlib inline"
   ]
  },
  {
   "cell_type": "code",
   "execution_count": null,
   "metadata": {},
   "outputs": [],
   "source": [
    "def hnorm(r):\n",
    "    \"\"\"define ||r||_h = h ||r||_2\"\"\"\n",
    "    n = len(r)\n",
    "    h = 1.0 / (n+1)\n",
    "    hrnorm = h * np.linalg.norm(r)\n",
    "    return hrnorm"
   ]
  },
  {
   "cell_type": "code",
   "execution_count": null,
   "metadata": {},
   "outputs": [],
   "source": [
    "def poissonop(n):\n",
    "    A = (n+1)**2 * sparse.diags([-1, 2, -1], [-1, 0, 1], shape=(n,n), format='csr')\n",
    "    return A\n",
    "\n",
    "def relax(A, u0, f, nu):\n",
    "    u = u0.copy()\n",
    "    n = A.shape[0]\n",
    "    Dinv = 1.0 / (2.0 * (n+1)**2)\n",
    "    omega = 2.0 / 3.0\n",
    "    for steps in range(nu):\n",
    "        u += omega * Dinv * (f - A * u)\n",
    "    return u\n",
    "\n",
    "def interpolation1d(nc, nf):\n",
    "    d = np.repeat([[1, 2, 1]], nc, axis=0).T\n",
    "    I = np.zeros((3,nc),dtype=int)\n",
    "    for i in range(nc):\n",
    "        I[:,i] = [2*i, 2*i+1, 2*i+2]\n",
    "    J = np.repeat([np.arange(nc)], 3, axis=0)\n",
    "    P = sparse.coo_matrix(\n",
    "        (d.ravel(), (I.ravel(), J.ravel()))\n",
    "        ).tocsr()\n",
    "    return 0.5 * P\n",
    "\n",
    "def twolevel(A, P, A1, u0, f0, nu):\n",
    "    u0 = relax(A, u0, f0, nu) # pre-smooth\n",
    "    f1 = P.T * (f0 - A * u0)  # restrict\n",
    "\n",
    "    u1 = sla.spsolve(A1, f1)  # coarse solve\n",
    "\n",
    "    u0 = u0 + P * u1          # interpolate\n",
    "    u0 = relax(A, u0, f0, nu) # post-smooth\n",
    "    return u0"
   ]
  },
  {
   "cell_type": "code",
   "execution_count": null,
   "metadata": {},
   "outputs": [],
   "source": [
    "# Problem setup\n",
    "k = 9\n",
    "n = 2**k - 1\n",
    "nc = 2**(k-1) - 1\n",
    "A = poissonop(n)\n",
    "f = np.zeros(n)\n",
    "u = np.random.rand(n)\n",
    "\n",
    "# Multigrid Setup\n",
    "P = interpolation1d(nc, n)\n",
    "A1 = P.T * A * P\n",
    "\n",
    "# Multigrid cycling\n",
    "res = [hnorm(f - A * u)]\n",
    "for i in range(10):\n",
    "    u = twolevel(A, P, A1, u, f, 1)\n",
    "    res.append(hnorm(f - A * u))\n",
    "\n",
    "# Look at the residuals\n",
    "res = np.array(res)\n",
    "print(res[1:] / res[:-1])"
   ]
  },
  {
   "cell_type": "markdown",
   "metadata": {},
   "source": [
    "Is this to be expected?!"
   ]
  },
  {
   "cell_type": "code",
   "execution_count": null,
   "metadata": {},
   "outputs": [],
   "source": []
  }
 ],
 "metadata": {
  "kernelspec": {
   "display_name": "Python 3",
   "language": "python",
   "name": "python3"
  },
  "language_info": {
   "codemirror_mode": {
    "name": "ipython",
    "version": 3
   },
   "file_extension": ".py",
   "mimetype": "text/x-python",
   "name": "python",
   "nbconvert_exporter": "python",
   "pygments_lexer": "ipython3",
   "version": "3.8.8"
  }
 },
 "nbformat": 4,
 "nbformat_minor": 4
}
