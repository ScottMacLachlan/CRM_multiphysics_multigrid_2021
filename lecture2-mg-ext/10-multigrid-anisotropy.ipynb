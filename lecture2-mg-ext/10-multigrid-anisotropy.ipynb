{
 "cells": [
  {
   "cell_type": "markdown",
   "metadata": {
    "colab_type": "text",
    "id": "view-in-github"
   },
   "source": [
    "<a href=\"https://colab.research.google.com/github/ScottMacLachlan/CRM_multiphysics_multigrid_2021/blob/master/lecture2-mg-ext/10-multigrid-anisotropy.ipynb\" target=\"_parent\"><img src=\"https://colab.research.google.com/assets/colab-badge.svg\" alt=\"Open In Colab\"/></a>"
   ]
  },
  {
   "cell_type": "code",
   "execution_count": null,
   "metadata": {},
   "outputs": [],
   "source": [
    "import scipy as sp\n",
    "import numpy as np\n",
    "import scipy.sparse as sparse\n",
    "import scipy.sparse.linalg as sla\n",
    "import matplotlib.pyplot as plt\n",
    "plt.style.use('seaborn-talk')\n",
    "\n",
    "%matplotlib inline"
   ]
  },
  {
   "cell_type": "code",
   "execution_count": null,
   "metadata": {
    "jupyter": {
     "source_hidden": true
    }
   },
   "outputs": [],
   "source": [
    "def stencil_grid(S, grid):\n",
    "    N_v = np.prod(grid)  # number of vertices in the mesh\n",
    "    N_s = (S != 0).sum() # number of nonzero stencil entries\n",
    "\n",
    "    # diagonal offsets\n",
    "    diags = np.zeros(N_s, dtype=int)\n",
    "\n",
    "    # compute index offset of each dof within the stencil\n",
    "    strides = np.cumprod([1] + list(reversed(grid)))[:-1]\n",
    "    indices = tuple(i.copy() for i in S.nonzero())\n",
    "    for i, s in zip(indices, S.shape):\n",
    "        i -= s // 2\n",
    "\n",
    "    for stride, coords in zip(strides, reversed(indices)):\n",
    "        diags += stride * coords\n",
    "\n",
    "    data = S[S != 0].repeat(N_v).reshape(N_s, N_v)\n",
    "\n",
    "    indices = np.vstack(indices).T\n",
    "\n",
    "    # zero boundary connections\n",
    "    for index, diag in zip(indices, data):\n",
    "        diag = diag.reshape(grid)\n",
    "        for n, i in enumerate(index):\n",
    "            if i > 0:\n",
    "                s = [slice(None)] * len(grid)\n",
    "                s[n] = slice(0, i)\n",
    "                s = tuple(s)\n",
    "                diag[s] = 0\n",
    "            elif i < 0:\n",
    "                s = [slice(None)]*len(grid)\n",
    "                s[n] = slice(i, None)\n",
    "                s = tuple(s)\n",
    "                diag[s] = 0\n",
    "\n",
    "    # remove diagonals that lie outside matrix\n",
    "    mask = abs(diags) < N_v\n",
    "    if not mask.all():\n",
    "        diags = diags[mask]\n",
    "        data = data[mask]\n",
    "\n",
    "    # sum duplicate diagonals\n",
    "    if len(np.unique(diags)) != len(diags):\n",
    "        new_diags = np.unique(diags)\n",
    "        new_data = np.zeros((len(new_diags), data.shape[1]),\n",
    "                            dtype=data.dtype)\n",
    "\n",
    "        for dia, dat in zip(diags, data):\n",
    "            n = np.searchsorted(new_diags, dia)\n",
    "            new_data[n, :] += dat\n",
    "\n",
    "        diags = new_diags\n",
    "        data = new_data\n",
    "\n",
    "    return sparse.dia_matrix((data, diags), shape=(N_v, N_v)).tocsr()\n",
    "\n",
    "sten = np.zeros((3,3))\n",
    "sten[[0,1,1,2],[1,0,2,1]] = -1\n",
    "sten[1,1] = 4\n",
    "\n",
    "A = stencil_grid(sten, (4,4))"
   ]
  },
  {
   "cell_type": "markdown",
   "metadata": {},
   "source": [
    "### Set up the operators\n",
    "\n",
    "There are a couple of notes here:\n",
    "\n",
    "- `relax` can be switch to `relaxGS`\n",
    "- The poisson operator now as a rotation:\n",
    "$$\n",
    "-\\varepsilon u_{xx} - u_{yy}\n",
    "$$\n",
    "leading to\n",
    "$$\n",
    "\\left[\n",
    "\\begin{array}{rrr}\n",
    " & -1 & \\\\\n",
    " -\\varepsilon & 2 + 2\\varepsilon & -\\varepsilon\\\\\n",
    " & -1 &\n",
    "\\end{array}\n",
    "\\right]\n",
    "$$"
   ]
  },
  {
   "cell_type": "code",
   "execution_count": null,
   "metadata": {},
   "outputs": [],
   "source": [
    "def relaxJ(A, u, f, nu):\n",
    "    n = A.shape[0]\n",
    "    unew = u.copy()\n",
    "    Dinv = sparse.spdiags(1./A.diagonal(), [0], n, n)\n",
    "    omega = 4 / 5\n",
    "    \n",
    "    for i in range(nu):\n",
    "        unew += omega * Dinv * (f - A * unew)\n",
    "\n",
    "    return unew\n",
    "\n",
    "def relaxGS(A, u, f, nu):\n",
    "    n = A.shape[0]\n",
    "    unew = u.copy()\n",
    "    D = sparse.spdiags(A.diagonal(), [0], A.shape[0], A.shape[1], format='csr')\n",
    "    E = -sparse.tril(A, -1)\n",
    "    \n",
    "    for i in range(nu):\n",
    "        unew += sla.spsolve(D-E, f - A * unew)\n",
    "\n",
    "    return unew\n",
    "\n",
    "def interpolation1d(nc, nf):\n",
    "    d = np.repeat([[1, 2, 1]], nc, axis=0).T\n",
    "    I = np.zeros((3,nc), dtype=int)\n",
    "    for i in range(nc):\n",
    "        I[:,i] = [2*i, 2*i+1, 2*i+2]\n",
    "    J = np.repeat([np.arange(nc)], 3, axis=0)\n",
    "    P = sparse.coo_matrix(\n",
    "        (d.ravel(), (I.ravel(), J.ravel()))\n",
    "        ).tocsr()\n",
    "    return 0.5 * P\n",
    "\n",
    "def poissonop(n, epsilon=1):\n",
    "    \"\"\"\n",
    "    Create a 2D operator from a stencil.\n",
    "    \"\"\"\n",
    "    #sten = np.array([[0, -1, 0], [-1, 4, -1], [0, -1, 0]])\n",
    "    sten = np.array([[ 0      ,           -1.,  0],\n",
    "                     [-epsilon,  2+2*epsilon, -epsilon],\n",
    "                     [0       ,           -1,  0]])\n",
    "    A = stencil_grid(sten, (n, n))\n",
    "    return A"
   ]
  },
  {
   "cell_type": "markdown",
   "metadata": {},
   "source": [
    "### Start relaxing\n",
    "\n",
    "As a start, let's view relaxation for this problem.\n",
    "\n",
    "Play around with `epsilon`.  Look at `epsilon = 100, 1, 0.001`.\n",
    "\n",
    "What happens to \"smoothing\"?"
   ]
  },
  {
   "cell_type": "code",
   "execution_count": null,
   "metadata": {},
   "outputs": [],
   "source": [
    "relax = relaxJ\n",
    "\n",
    "k = 7\n",
    "n = 2**k - 1\n",
    "nc = 2**(k-1) - 1\n",
    "A = poissonop(n, epsilon=0.001)\n",
    "X, Y = np.meshgrid(np.linspace(0,1,n),\n",
    "                   np.linspace(0,1,n))\n",
    "\n",
    "u = np.random.rand(n,n).ravel()\n",
    "f = np.zeros((n,n)).ravel()\n",
    "unew = relax(A, u, f, 20)"
   ]
  },
  {
   "cell_type": "code",
   "execution_count": null,
   "metadata": {},
   "outputs": [],
   "source": [
    "plt.pcolormesh(X, Y, unew.reshape((n,n)))\n",
    "plt.axis('off')"
   ]
  },
  {
   "cell_type": "markdown",
   "metadata": {},
   "source": [
    "## \"Fourier\" testing\n",
    "\n",
    "We can get a sense of the smoothing properties by testing\n",
    "relaxatio non a number of Fourier modes.\n",
    "\n",
    "Here we will test the $(k_1, k_2)$ modes:\n",
    "$$\n",
    "\\sin\\left(\\frac{k_1 i\\pi}{n+1}\\right)\\sin\\left(\\frac{k_2 j\\pi}{n+1}\\right)\n",
    "$$"
   ]
  },
  {
   "cell_type": "code",
   "execution_count": null,
   "metadata": {},
   "outputs": [],
   "source": [
    "k = 5\n",
    "n = 2**k - 1\n",
    "nc = 2**(k-1) - 1\n",
    "A = poissonop(n, epsilon=0.001)\n",
    "f = np.zeros((n,n)).ravel()\n",
    "z = np.zeros((n,n))\n",
    "for k1 in range(1,n+1):\n",
    "    for k2 in range(1,n+1):\n",
    "        v = np.outer(np.sin(np.arange(1,n+1) * k1 * np.pi / (n+1)),\n",
    "                     np.sin(np.arange(1,n+1) * k2 * np.pi / (n+1)))\n",
    "        v = v.ravel()\n",
    "        nv0 = np.linalg.norm(v)\n",
    "        m = 10\n",
    "        v = relax(A, v, f, m)\n",
    "        nv1 = np.linalg.norm(v)\n",
    "        z[k1-1,k2-1] = (nv1 / nv0)**(1/m)"
   ]
  },
  {
   "cell_type": "code",
   "execution_count": null,
   "metadata": {},
   "outputs": [],
   "source": [
    "plt.pcolor(z)\n",
    "plt.colorbar()\n",
    "plt.xlabel('$k_1$')\n",
    "plt.ylabel('$k_2$')"
   ]
  },
  {
   "cell_type": "markdown",
   "metadata": {},
   "source": [
    "### A two grid method\n",
    "\n",
    "We can try this: relax, restrict, solve, interpolate, correct"
   ]
  },
  {
   "cell_type": "code",
   "execution_count": null,
   "metadata": {},
   "outputs": [],
   "source": [
    "def twogrid(A, P, A1, u0, f0, nu):\n",
    "    u0 = relax(A, u0, f0, nu)\n",
    "    f1 = P.T * (f0 - A * u0)\n",
    "\n",
    "    u1 = sla.spsolve(A1, f1)\n",
    "\n",
    "    u0 = u0 + P * u1\n",
    "    u0 = relax(A, u0, f0, nu)\n",
    "    return u0"
   ]
  },
  {
   "cell_type": "markdown",
   "metadata": {},
   "source": [
    "Now run the solver over a range of values for $\\varepsilon$:\n",
    "$$\n",
    "\\varepsilon = 10^{-3}\\dots 10^{3}\n",
    "$$"
   ]
  },
  {
   "cell_type": "code",
   "execution_count": null,
   "metadata": {},
   "outputs": [],
   "source": [
    "k = 5\n",
    "n = 2**k - 1\n",
    "nc = 2**(k-1) - 1\n",
    "elist = np.logspace(-3,3,50)\n",
    "\n",
    "m = 20\n",
    "allres = np.zeros((len(elist),m))\n",
    "\n",
    "for i, epsilon in enumerate(elist):\n",
    "    u = np.random.rand(n*n)\n",
    "    f = np.zeros((n,n)).ravel()\n",
    "    A = (n+1)**2 * poissonop(n, epsilon=epsilon)\n",
    "    P1d = interpolation1d(nc, n)\n",
    "    P = sparse.kron(P1d, P1d).tocsr()\n",
    "    A1 = P.T * A * P\n",
    "    for j in range(m):\n",
    "        u = twogrid(A, P, A1, u, f, 1)\n",
    "        res = np.linalg.norm(f - A * u)\n",
    "        allres[i,j] = res"
   ]
  },
  {
   "cell_type": "code",
   "execution_count": null,
   "metadata": {},
   "outputs": [],
   "source": [
    "for i in range(len(elist)):\n",
    "    plt.semilogy(allres[i,:])\n",
    "plt.xlabel('iterations')\n",
    "plt.ylabel('norm of the residual')"
   ]
  },
  {
   "cell_type": "markdown",
   "metadata": {},
   "source": [
    "Instead, let's plot the convergence factors.\n",
    "\n",
    "In this case, we'll use the geometric average of the last five iterates."
   ]
  },
  {
   "cell_type": "code",
   "execution_count": null,
   "metadata": {},
   "outputs": [],
   "source": [
    "factors = []\n",
    "for i in range(len(elist)):    \n",
    "    factor = (allres[i,-1] / allres[i,-5])**(1/5)\n",
    "    factors.append(factor)\n",
    "\n",
    "plt.semilogx(elist, factors, 'o')\n",
    "plt.xlabel('$\\epsilon$')\n",
    "plt.ylabel('convergence factor')"
   ]
  },
  {
   "cell_type": "code",
   "execution_count": null,
   "metadata": {},
   "outputs": [],
   "source": []
  },
  {
   "cell_type": "code",
   "execution_count": null,
   "metadata": {},
   "outputs": [],
   "source": []
  },
  {
   "cell_type": "code",
   "execution_count": null,
   "metadata": {},
   "outputs": [],
   "source": []
  },
  {
   "cell_type": "code",
   "execution_count": null,
   "metadata": {},
   "outputs": [],
   "source": []
  }
 ],
 "metadata": {
  "kernelspec": {
   "display_name": "Python 3",
   "language": "python",
   "name": "python3"
  },
  "language_info": {
   "codemirror_mode": {
    "name": "ipython",
    "version": 3
   },
   "file_extension": ".py",
   "mimetype": "text/x-python",
   "name": "python",
   "nbconvert_exporter": "python",
   "pygments_lexer": "ipython3",
   "version": "3.8.8"
  }
 },
 "nbformat": 4,
 "nbformat_minor": 4
}
