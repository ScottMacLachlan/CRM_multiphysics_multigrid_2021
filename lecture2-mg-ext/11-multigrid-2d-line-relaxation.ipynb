{
 "cells": [
  {
   "cell_type": "markdown",
   "metadata": {
    "colab_type": "text",
    "id": "view-in-github"
   },
   "source": [
    "<a href=\"https://colab.research.google.com/github/ScottMacLachlan/CRM_multiphysics_multigrid_2021/blob/master/lecture2-mg-ext/11-multigrid-2d-line-relaxation.ipynb\" target=\"_parent\"><img src=\"https://colab.research.google.com/assets/colab-badge.svg\" alt=\"Open In Colab\"/></a>"
   ]
  },
  {
   "cell_type": "code",
   "execution_count": null,
   "metadata": {},
   "outputs": [],
   "source": [
    "import scipy as sp\n",
    "import numpy as np\n",
    "import scipy.sparse as sparse\n",
    "import scipy.sparse.linalg as sla\n",
    "import matplotlib.pyplot as plt\n",
    "plt.style.use('seaborn-talk')\n",
    "\n",
    "%matplotlib inline"
   ]
  },
  {
   "cell_type": "markdown",
   "metadata": {},
   "source": [
    "### A stencil operator"
   ]
  },
  {
   "cell_type": "code",
   "execution_count": null,
   "metadata": {},
   "outputs": [],
   "source": [
    "def stencil_grid(S, grid):\n",
    "    N_v = np.prod(grid)  # number of vertices in the mesh\n",
    "    N_s = (S != 0).sum() # number of nonzero stencil entries\n",
    "\n",
    "    # diagonal offsets\n",
    "    diags = np.zeros(N_s, dtype=int)\n",
    "\n",
    "    # compute index offset of each dof within the stencil\n",
    "    strides = np.cumprod([1] + list(reversed(grid)))[:-1]\n",
    "    indices = tuple(i.copy() for i in S.nonzero())\n",
    "    for i, s in zip(indices, S.shape):\n",
    "        i -= s // 2\n",
    "\n",
    "    for stride, coords in zip(strides, reversed(indices)):\n",
    "        diags += stride * coords\n",
    "\n",
    "    data = S[S != 0].repeat(N_v).reshape(N_s, N_v)\n",
    "\n",
    "    indices = np.vstack(indices).T\n",
    "\n",
    "    # zero boundary connections\n",
    "    for index, diag in zip(indices, data):\n",
    "        diag = diag.reshape(grid)\n",
    "        for n, i in enumerate(index):\n",
    "            if i > 0:\n",
    "                s = [slice(None)] * len(grid)\n",
    "                s[n] = slice(0, i)\n",
    "                s = tuple(s)\n",
    "                diag[s] = 0\n",
    "            elif i < 0:\n",
    "                s = [slice(None)]*len(grid)\n",
    "                s[n] = slice(i, None)\n",
    "                s = tuple(s)\n",
    "                diag[s] = 0\n",
    "\n",
    "    # remove diagonals that lie outside matrix\n",
    "    mask = abs(diags) < N_v\n",
    "    if not mask.all():\n",
    "        diags = diags[mask]\n",
    "        data = data[mask]\n",
    "\n",
    "    # sum duplicate diagonals\n",
    "    if len(np.unique(diags)) != len(diags):\n",
    "        new_diags = np.unique(diags)\n",
    "        new_data = np.zeros((len(new_diags), data.shape[1]),\n",
    "                            dtype=data.dtype)\n",
    "\n",
    "        for dia, dat in zip(diags, data):\n",
    "            n = np.searchsorted(new_diags, dia)\n",
    "            new_data[n, :] += dat\n",
    "\n",
    "        diags = new_diags\n",
    "        data = new_data\n",
    "\n",
    "    return sparse.dia_matrix((data, diags), shape=(N_v, N_v)).tocsr()"
   ]
  },
  {
   "cell_type": "markdown",
   "metadata": {},
   "source": [
    "### A tridiagonal solver"
   ]
  },
  {
   "cell_type": "code",
   "execution_count": null,
   "metadata": {},
   "outputs": [],
   "source": [
    "def trisolver(a, b, c, rhs):\n",
    "    '''\n",
    "    https://gist.github.com/TheoChristiaanse/d168b7e57dd30342a81aa1dc4eb3e469\n",
    "    '''\n",
    "    nf = len(rhs) # number of equations\n",
    "    ac, bc, cc, rhsc = map(np.array, (a, b, c, rhs)) # copy arrays\n",
    "    for it in range(1, nf):\n",
    "        mc = ac[it-1] / bc[it-1]\n",
    "        bc[it] = bc[it] - mc*cc[it-1] \n",
    "        rhsc[it] = rhsc[it] - mc*rhsc[it-1]   \n",
    "    xc = bc\n",
    "    xc[-1] = rhsc[-1] / bc[-1]\n",
    "\n",
    "    for il in range(nf-2, -1, -1):\n",
    "        xc[il] = (rhsc[il] - cc[il] * xc[il+1]) / bc[il]\n",
    "\n",
    "    return xc"
   ]
  },
  {
   "cell_type": "markdown",
   "metadata": {},
   "source": [
    "### Point relaxation, interpolation, and an operator\n",
    "\n",
    "Here, the diffusion operator uses a `sten` as input..."
   ]
  },
  {
   "cell_type": "code",
   "execution_count": null,
   "metadata": {},
   "outputs": [],
   "source": [
    "def pointrelax(A, u, f, nu):\n",
    "    n = A.shape[0]\n",
    "    unew = u.copy()\n",
    "    Dinv = sparse.spdiags(1./A.diagonal(), [0], n, n)\n",
    "    omega = 4 / 5\n",
    "\n",
    "    for i in range(nu):\n",
    "        unew += omega * Dinv * (f - A * unew)\n",
    "        \n",
    "    return unew\n",
    "\n",
    "def interpolation1d(nc, nf):\n",
    "    d = np.repeat([[1, 2, 1]], nc, axis=0).T\n",
    "    I = np.zeros((3,nc), dtype=int)\n",
    "    for i in range(nc):\n",
    "        I[:,i] = [2*i, 2*i+1, 2*i+2]\n",
    "    J = np.repeat([np.arange(nc)], 3, axis=0)\n",
    "    P = sparse.coo_matrix(\n",
    "        (d.ravel(), (I.ravel(), J.ravel()))\n",
    "        ).tocsr()\n",
    "    return 0.5 * P\n",
    "\n",
    "def poissonop(n, sten):\n",
    "    #sten = np.array([[0, -1, 0], [-1, 4, -1], [0, -1, 0]])\n",
    "    A = stencil_grid(sten, (n, n))\n",
    "    return A\n",
    "\n",
    "def getsten(epsilon):\n",
    "    sten = np.array([[ 0      ,           -1.,  0],\n",
    "                     [-epsilon,  2+2*epsilon, -epsilon],\n",
    "                     [0       ,           -1,  0]])\n",
    "    return sten"
   ]
  },
  {
   "cell_type": "code",
   "execution_count": null,
   "metadata": {},
   "outputs": [],
   "source": [
    "def linerelax(A, u, f, nu,\n",
    "              sten,\n",
    "              direction='y'):\n",
    "    \"\"\"\n",
    "    'y' -- constant x\n",
    "    'x' -- constant y\n",
    "    \"\"\"\n",
    "    n = int(np.sqrt(len(f))) # assume a square grid\n",
    "    \n",
    "    # get the stride\n",
    "    # linesten -- the stencil for the 1d problem\n",
    "    # offsten -- the weak stencil entries\n",
    "    if direction == 'x':\n",
    "        stride = 1\n",
    "        linesten = sten[1,:]\n",
    "        offsten = sten[[0,2],1]\n",
    "    if direction == 'y':\n",
    "        stride = n\n",
    "        linesten = sten[:,1]\n",
    "        offsten = sten[1,[0,2]]\n",
    "    \n",
    "    # build the three vectors for the tridiagonal solver\n",
    "    T = np.array(linesten) * np.ones((n,3))\n",
    "    \n",
    "    f = f.reshape((n,n))\n",
    "    unew = u.copy()\n",
    "    unew = unew.reshape((n,n))\n",
    "    \n",
    "    # for each smoothing pass\n",
    "    for _ in range(nu):\n",
    "        # solve each line\n",
    "        for i in range(n):\n",
    "            if direction == 'x':\n",
    "                fline = f[i,:].copy()\n",
    "                if i > 1:\n",
    "                    fline -= offsten[0] * unew[i-1,:]\n",
    "                if i < (n-1):\n",
    "                    fline -= offsten[1] * unew[i+1,:]\n",
    "\n",
    "            if direction == 'y':\n",
    "                fline = f[:,i].copy()\n",
    "                if i > 1:\n",
    "                    fline -= offsten[0] * unew[:,i-1]\n",
    "                if i < (n-1):\n",
    "                    fline -= offsten[1] * unew[:,i+1]\n",
    "\n",
    "            uline = trisolver(T[:,0], T[:,1], T[:,2], fline)\n",
    "\n",
    "            if direction == 'x':\n",
    "                unew[i,:] = uline\n",
    "            if direction == 'y':\n",
    "                unew[:,i] = uline\n",
    "    return unew.ravel()"
   ]
  },
  {
   "cell_type": "markdown",
   "metadata": {},
   "source": [
    "### Try smoothing\n",
    "\n",
    "Here we will try the line smoother.\n",
    "\n",
    "Flip back and forth between point smoothing and line smoothing."
   ]
  },
  {
   "cell_type": "code",
   "execution_count": null,
   "metadata": {},
   "outputs": [],
   "source": [
    "k = 7\n",
    "n = 2**k - 1\n",
    "nc = 2**(k-1) - 1\n",
    "X, Y = np.meshgrid(np.linspace(0,1,n),\n",
    "                   np.linspace(0,1,n))\n",
    "\n",
    "u = np.random.rand(n,n).ravel()\n",
    "f = np.zeros((n,n)).ravel()\n",
    "\n",
    "epsilon = 0.001\n",
    "sten = getsten(epsilon)\n",
    "A = (n+1)**2 * poissonop(n, sten)\n",
    "\n",
    "plt.figure()\n",
    "plt.pcolormesh(X, Y, u.reshape((n,n)), shading='auto')\n",
    "plt.colorbar()\n",
    "u = linerelax(A, u, f, 2, (n+1)**2*sten, direction='y')\n",
    "#u = pointrelax(A, u, f, 10)\n",
    "plt.figure()\n",
    "plt.pcolormesh(X, Y, u.reshape((n,n)), shading='auto')\n",
    "plt.colorbar()"
   ]
  },
  {
   "cell_type": "markdown",
   "metadata": {},
   "source": [
    "### Define a two grid cycle\n",
    "\n",
    "As a reminder, flip back and forth between `pointrelax` and `linerelax`"
   ]
  },
  {
   "cell_type": "code",
   "execution_count": null,
   "metadata": {},
   "outputs": [],
   "source": [
    "def twogrid(A, P, A1, u0, f0, nu, sten=None):\n",
    "    #u0 = pointrelax(A, u0, f0, nu)\n",
    "    u0 = linerelax(A, u0, f0, nu, sten, direction='y')\n",
    "    f1 = P.T * (f0 - A * u0)\n",
    "\n",
    "    u1 = sla.spsolve(A1, f1)\n",
    "\n",
    "    u0 = u0 + P * u1\n",
    "    #u0 = pointrelax(A, u0, f0, nu)\n",
    "    u0 = linerelax(A, u0, f0, nu, sten, direction='y')\n",
    "    return u0"
   ]
  },
  {
   "cell_type": "markdown",
   "metadata": {},
   "source": [
    "### Run it \n",
    "\n",
    "Here we'll run it a few times and then observe the output"
   ]
  },
  {
   "cell_type": "code",
   "execution_count": null,
   "metadata": {},
   "outputs": [],
   "source": [
    "u = np.random.rand(n*n)\n",
    "f = np.zeros((n,n)).ravel()\n",
    "epsilon = 0.01\n",
    "sten = getsten(epsilon)\n",
    "A = (n+1)**2 * poissonop(n, sten)\n",
    "P1d = interpolation1d(nc, n)\n",
    "P = sparse.kron(P1d, P1d).tocsr()\n",
    "A1 = P.T * A * P\n",
    "\n",
    "m = 20\n",
    "res = []\n",
    "for j in range(m):\n",
    "    u = twogrid(A, P, A1, u, f, 1, (n+1)**2 * sten)\n",
    "    res.append(np.linalg.norm(f - A * u))\n",
    "    \n",
    "res = np.array(res)\n",
    "factor = (res[-1] / res[-5])**(1/5)\n",
    "print(factor)"
   ]
  },
  {
   "cell_type": "markdown",
   "metadata": {},
   "source": [
    "### Try it for different $\\varepsilon$\n",
    "\n",
    "Let's vary $\\varepsilon$ and see what happens"
   ]
  },
  {
   "cell_type": "code",
   "execution_count": null,
   "metadata": {},
   "outputs": [],
   "source": [
    "k = 5\n",
    "n = 2**k - 1\n",
    "nc = 2**(k-1) - 1\n",
    "elist = np.logspace(-3,3,50)\n",
    "allres = np.zeros((len(elist),m))\n",
    "m = 20\n",
    "\n",
    "for i, epsilon in enumerate(elist):\n",
    "    u = np.random.rand(n*n)\n",
    "    f = np.zeros((n,n)).ravel()\n",
    "    sten = getsten(epsilon)\n",
    "    \n",
    "    A = (n+1)**2 * poissonop(n, sten)\n",
    "    P1d = interpolation1d(nc, n)\n",
    "    P = sparse.kron(P1d, P1d).tocsr()\n",
    "    A1 = P.T * A * P\n",
    "    for j in range(m):\n",
    "        u = twogrid(A, P, A1, u, f, 1, (n+1)**2 * sten)\n",
    "        res = np.linalg.norm(f - A * u)\n",
    "        allres[i,j] = res"
   ]
  },
  {
   "cell_type": "code",
   "execution_count": null,
   "metadata": {},
   "outputs": [],
   "source": [
    "for i in range(len(elist)):\n",
    "    plt.semilogy(allres[i,:])\n",
    "plt.xlabel('iterations')\n",
    "plt.ylabel('norm of the residual')"
   ]
  },
  {
   "cell_type": "code",
   "execution_count": null,
   "metadata": {},
   "outputs": [],
   "source": [
    "factors = []\n",
    "for i in range(len(elist)):    \n",
    "    factor = (allres[i,-1] / allres[i,-5])**(1/5)\n",
    "    factors.append(factor)\n",
    "\n",
    "plt.semilogx(elist, factors, 'o')\n",
    "plt.xlabel('$\\epsilon$')\n",
    "plt.ylabel('convergence factor')"
   ]
  },
  {
   "cell_type": "markdown",
   "metadata": {},
   "source": [
    "### What happens to the spectrum?\n",
    "\n",
    "Here we'll apply line relaxation to the sine waves again."
   ]
  },
  {
   "cell_type": "code",
   "execution_count": null,
   "metadata": {},
   "outputs": [],
   "source": [
    "epsilon = 0.1 * 1/n\n",
    "sten = getsten(epsilon)\n",
    "A = poissonop(n, sten)\n",
    "\n",
    "f = np.zeros((n,n)).ravel()\n",
    "z = np.zeros((n,n))\n",
    "for k1 in range(1,n+1):\n",
    "    for k2 in range(1,n+1):\n",
    "        v = np.outer(np.sin(np.arange(1,n+1) * k1 * np.pi / (n+1)),\n",
    "                     np.sin(np.arange(1,n+1) * k2 * np.pi / (n+1)))\n",
    "        v = v.ravel()\n",
    "        nv0 = np.linalg.norm(v)\n",
    "        m = 10\n",
    "        #v = pointrelax(A, v, f, m)\n",
    "        v = linerelax(A, v, f, m, sten, direction='y')\n",
    "        nv1 = np.linalg.norm(v)\n",
    "        z[k1-1,k2-1] = (nv1 / nv0)**(1/m)"
   ]
  },
  {
   "cell_type": "code",
   "execution_count": null,
   "metadata": {},
   "outputs": [],
   "source": [
    "plt.pcolor(z)\n",
    "plt.colorbar()"
   ]
  },
  {
   "cell_type": "markdown",
   "metadata": {},
   "source": [
    "### Notice highly oscillatory waves in the x-direction"
   ]
  },
  {
   "cell_type": "code",
   "execution_count": null,
   "metadata": {},
   "outputs": [],
   "source": [
    "X, Y = np.meshgrid(np.linspace(0,1,n),\n",
    "                   np.linspace(0,1,n))\n",
    "v = np.outer(np.sin(np.arange(1,n+1) * 1 * np.pi / (n+1)),\n",
    "             np.sin(np.arange(1,n+1) * 28 * np.pi / (n+1)))\n",
    "print(v.shape)\n",
    "v = linerelax(A, v, f, 1, sten, direction='y')\n",
    "print(v.shape)"
   ]
  },
  {
   "cell_type": "code",
   "execution_count": null,
   "metadata": {},
   "outputs": [],
   "source": [
    "plt.pcolor(X, Y, v.reshape((n,n)))\n",
    "plt.colorbar()"
   ]
  },
  {
   "cell_type": "markdown",
   "metadata": {},
   "source": [
    "### Fixing all $\\varepsilon$\n",
    "\n",
    "Let's line relax in **both** directions, to take care of anisotropies."
   ]
  },
  {
   "cell_type": "code",
   "execution_count": null,
   "metadata": {},
   "outputs": [],
   "source": [
    "def twogrid(A, P, A1, u0, f0, nu, sten=None):\n",
    "    #u0 = pointrelax(A, u0, f0, nu)\n",
    "    u0 = linerelax(A, u0, f0, nu, sten, direction='y')\n",
    "    u0 = linerelax(A, u0, f0, nu, sten, direction='x')\n",
    "    f1 = P.T * (f0 - A * u0)\n",
    "\n",
    "    u1 = sla.spsolve(A1, f1)\n",
    "\n",
    "    u0 = u0 + P * u1\n",
    "    #u0 = pointrelax(A, u0, f0, nu)\n",
    "    u0 = linerelax(A, u0, f0, nu, sten, direction='y')\n",
    "    u0 = linerelax(A, u0, f0, nu, sten, direction='x')\n",
    "    return u0"
   ]
  },
  {
   "cell_type": "code",
   "execution_count": null,
   "metadata": {},
   "outputs": [],
   "source": [
    "k = 5\n",
    "n = 2**k - 1\n",
    "nc = 2**(k-1) - 1\n",
    "elist = np.logspace(-3,3,50)\n",
    "m=20\n",
    "allres = np.zeros((len(elist),m))\n",
    "\n",
    "for i, epsilon in enumerate(elist):\n",
    "    u = np.random.rand(n*n)\n",
    "    f = np.zeros((n,n)).ravel()\n",
    "    sten = getsten(epsilon)\n",
    "    A = (n+1)**2 * poissonop(n, sten)\n",
    "    P1d = interpolation1d(nc, n)\n",
    "    P = sparse.kron(P1d, P1d).tocsr()\n",
    "    A1 = P.T * A * P\n",
    "    for j in range(m):\n",
    "        u = twogrid(A, P, A1, u, f, 1, (n+1)**2 * sten)\n",
    "        res = np.linalg.norm(f - A * u)\n",
    "        allres[i,j] = res"
   ]
  },
  {
   "cell_type": "code",
   "execution_count": null,
   "metadata": {},
   "outputs": [],
   "source": [
    "for i in range(len(elist)):\n",
    "    plt.semilogy(allres[i,:])\n",
    "plt.xlabel('iterations')\n",
    "plt.ylabel('norm of the residual')"
   ]
  },
  {
   "cell_type": "code",
   "execution_count": null,
   "metadata": {},
   "outputs": [],
   "source": [
    "factors = []\n",
    "for i in range(len(elist)):    \n",
    "    factor = (allres[i,-1] / allres[i,-5])**(1/5)\n",
    "    factors.append(factor)\n",
    "\n",
    "plt.semilogx(elist, factors, 'o')\n",
    "plt.xlabel('$\\epsilon$')\n",
    "plt.ylabel('convergence factor')"
   ]
  },
  {
   "cell_type": "code",
   "execution_count": null,
   "metadata": {},
   "outputs": [],
   "source": []
  }
 ],
 "metadata": {
  "kernelspec": {
   "display_name": "Python 3",
   "language": "python",
   "name": "python3"
  },
  "language_info": {
   "codemirror_mode": {
    "name": "ipython",
    "version": 3
   },
   "file_extension": ".py",
   "mimetype": "text/x-python",
   "name": "python",
   "nbconvert_exporter": "python",
   "pygments_lexer": "ipython3",
   "version": "3.8.8"
  }
 },
 "nbformat": 4,
 "nbformat_minor": 4
}
